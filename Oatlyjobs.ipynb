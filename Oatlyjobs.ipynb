{
 "cells": [
  {
   "cell_type": "code",
   "execution_count": 2,
   "metadata": {},
   "outputs": [
    {
     "name": "stdout",
     "output_type": "stream",
     "text": [
      "Barista Market Developer Manager\n"
     ]
    }
   ],
   "source": [
    "import bs4, requests, pprint\n",
    "\n",
    "test = requests.get('https://www.oatly.com/uk/jobs')\n",
    "test.raise_for_status()\n",
    "retrieve = bs4.BeautifulSoup(test.text, 'html.parser')\n",
    "elems = retrieve.select('.ReachMee-jobs')[0]\n",
    "elems2 = elems.find_all('h3')\n",
    "\n",
    "for link in elems2:\n",
    "    print(link.get_text())"
   ]
  },
  {
   "cell_type": "code",
   "execution_count": null,
   "metadata": {},
   "outputs": [],
   "source": []
  }
 ],
 "metadata": {
  "kernelspec": {
   "display_name": ".venv",
   "language": "python",
   "name": ".venv"
  },
  "language_info": {
   "codemirror_mode": {
    "name": "ipython",
    "version": 3
   },
   "file_extension": ".py",
   "mimetype": "text/x-python",
   "name": "python",
   "nbconvert_exporter": "python",
   "pygments_lexer": "ipython3",
   "version": "3.7.7"
  }
 },
 "nbformat": 4,
 "nbformat_minor": 4
}
